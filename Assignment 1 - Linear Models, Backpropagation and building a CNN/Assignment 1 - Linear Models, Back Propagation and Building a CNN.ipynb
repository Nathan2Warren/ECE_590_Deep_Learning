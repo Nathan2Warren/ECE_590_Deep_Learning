{
 "cells": [
  {
   "cell_type": "markdown",
   "metadata": {},
   "source": [
    "# Assignment 1 - Linear Model, Back Propagation and Building a CNN"
   ]
  },
  {
   "cell_type": "markdown",
   "metadata": {},
   "source": [
    "## 1. True/False Questions"
   ]
  },
  {
   "cell_type": "markdown",
   "metadata": {},
   "source": [
    "For each question, please provide a short explanation to support your judgment."
   ]
  },
  {
   "cell_type": "markdown",
   "metadata": {},
   "source": [
    "### Problem 1.1 \n",
    "Using a proper setting (e.g., learning rate, initialization etc.), the gradient descent algorithm is always able to yield an optimal solution on convex functions, as the local optimal value is always the global optimal value.\n",
    "\n",
    "\n",
    ">True, for a convex function, the local minimum which gradient descent will lead you towards is always the global minimum making it the global optimal value for a convex function. "
   ]
  },
  {
   "cell_type": "markdown",
   "metadata": {},
   "source": [
    "### Problem 1.2 \n",
    "\n",
    "For a given task, having more layers in a neural network model always improves its capacity. Thus, it is beneficial to have as many layers as possible to improve NN’s generalization ability.\n",
    "\n",
    ">False, this usually depends on how large the dataset is and the complexity of the problem being solved. Additional layers do not always improve a model and can lead to overfitting. If the model is overfitting on the dataset, this makes the model less generalizable.\n",
    "   "
   ]
  },
  {
   "cell_type": "markdown",
   "metadata": {},
   "source": [
    "### Problem 1.3 \n",
    "Given a learning task that can be perfectly learned by a Madaline model, the same set of weight values will be achieved after training, no matter how the Madaline is initialized.\n",
    "\n",
    ">False, since Madeline uses the error-correction rule, Madeline is sensitive to initialization and as a result there is no theoretical guarantee of convergence. With random initialization, it is unknown how far the model is to the optimal objective, which means that deciding when to stop training is uncertain. This can lead to different weights if the model is stopped earlier or later in relation to the optimal objective than in previous run. "
   ]
  },
  {
   "cell_type": "markdown",
   "metadata": {},
   "source": [
    "### Problem 1.4 \n",
    "Sigmoid neurons are likely to ‘die’ during the training process, as the gradients in the middle of the ‘S-shape’ sigmoidal curve may vanish. Thus, these neurons are less likely to be updated. We should use a larger learning rate to train all of the sigmoid neurons.\n",
    "\n",
    "\n",
    ">False. The sigmoid function squishes the input values between 0 and 1. Looking at the derivative of the sigmoid function we can see that extreme values will lead to a much smaller gradient. Regardless of how large the learning rate is, since it is multiplied by the gradient, the update to the weight will be small."
   ]
  },
  {
   "cell_type": "markdown",
   "metadata": {},
   "source": [
    "### Problem 1.5 \n",
    "According to the “convolution shape rule,” for a convolution operation with fixed kernel size, stride and padding, increasing the height and width of the input feature map will always lead to a larger output feature map size.**\n",
    "\n",
    ">True, we can use the following formulas to show this: \n",
    "<br>\n",
    "$$W_2 = \\left[\\frac{W_1 - K + 2P}{S}\\right ] +1$$\n",
    "$$H_2 = \\left[\\frac{H_1 - K + 2P}{S}\\right ] +1$$\n",
    "<br>\n",
    "These two formulas describe the input feature map which has a shape of $H_1 \\times W_1$ and the output feature map which has a shape $H_2 \\times W_2$. An increase in $H_1$ and $W_1$ would lead to an increase in $W_2$ and $H_2$. "
   ]
  },
  {
   "cell_type": "markdown",
   "metadata": {},
   "source": [
    "## 2. Adaline"
   ]
  },
  {
   "cell_type": "markdown",
   "metadata": {},
   "source": [
    "In the following problems, you will be asked to derive the output of a given Adaline, or propose proper weight values for the Adaline to mimic the functionality of some simple logic functions. For all problems, please consider +1 as True and −1 as False in the inputs and outputs."
   ]
  },
  {
   "cell_type": "markdown",
   "metadata": {},
   "source": [
    "### Problem 2.1 \n",
    "Observe the Adaline shown in Figure 1, fill in the feature s and output y for each pair of inputs given in the truth table. What logic function is this Adaline performing?"
   ]
  },
  {
   "cell_type": "markdown",
   "metadata": {},
   "source": [
    "The logic function being performed is the AND function. "
   ]
  },
  {
   "cell_type": "code",
   "execution_count": 1,
   "metadata": {},
   "outputs": [
    {
     "data": {
      "text/html": [
       "<div>\n",
       "<style scoped>\n",
       "    .dataframe tbody tr th:only-of-type {\n",
       "        vertical-align: middle;\n",
       "    }\n",
       "\n",
       "    .dataframe tbody tr th {\n",
       "        vertical-align: top;\n",
       "    }\n",
       "\n",
       "    .dataframe thead th {\n",
       "        text-align: right;\n",
       "    }\n",
       "</style>\n",
       "<table border=\"1\" class=\"dataframe\">\n",
       "  <thead>\n",
       "    <tr style=\"text-align: right;\">\n",
       "      <th></th>\n",
       "      <th>x1</th>\n",
       "      <th>x2</th>\n",
       "      <th>s</th>\n",
       "      <th>y</th>\n",
       "    </tr>\n",
       "  </thead>\n",
       "  <tbody>\n",
       "    <tr>\n",
       "      <th>0</th>\n",
       "      <td>-1</td>\n",
       "      <td>-1</td>\n",
       "      <td>-3.5</td>\n",
       "      <td>-1</td>\n",
       "    </tr>\n",
       "    <tr>\n",
       "      <th>1</th>\n",
       "      <td>-1</td>\n",
       "      <td>1</td>\n",
       "      <td>-1.5</td>\n",
       "      <td>-1</td>\n",
       "    </tr>\n",
       "    <tr>\n",
       "      <th>2</th>\n",
       "      <td>1</td>\n",
       "      <td>-1</td>\n",
       "      <td>-1.5</td>\n",
       "      <td>-1</td>\n",
       "    </tr>\n",
       "    <tr>\n",
       "      <th>3</th>\n",
       "      <td>1</td>\n",
       "      <td>1</td>\n",
       "      <td>0.5</td>\n",
       "      <td>1</td>\n",
       "    </tr>\n",
       "  </tbody>\n",
       "</table>\n",
       "</div>"
      ],
      "text/plain": [
       "   x1  x2    s  y\n",
       "0  -1  -1 -3.5 -1\n",
       "1  -1   1 -1.5 -1\n",
       "2   1  -1 -1.5 -1\n",
       "3   1   1  0.5  1"
      ]
     },
     "execution_count": 1,
     "metadata": {},
     "output_type": "execute_result"
    }
   ],
   "source": [
    "import numpy as np\n",
    "import pandas as pd\n",
    "\n",
    "x1 = np.array([-1, -1, 1, 1])\n",
    "x2 = np.array([-1, 1, -1 ,1])\n",
    "w0, w1, w2 = -1.5, 1, 1\n",
    "\n",
    "s = w1*x1 + w2*x2 + w0\n",
    "\n",
    "# Sign function to return values of -1, 0, 1 based on the value of s\n",
    "def Sign(s):\n",
    "    if s == 0:\n",
    "        return 0\n",
    "    elif s > 0:\n",
    "        return 1\n",
    "    else:\n",
    "        return -1\n",
    "\n",
    "# Iterate through Sign to find the return values\n",
    "y= [Sign(i) for i in s]\n",
    "\n",
    "pd.DataFrame({'x1': x1, 'x2': x2, 's':s, 'y':y})"
   ]
  },
  {
   "cell_type": "markdown",
   "metadata": {},
   "source": [
    "### Problem 2.2\n",
    "Propose proper values for weight w0 , w1 and w2 in the Adaline shown in Figure 2 to perform the functionality of a logic NOR function. Fill in the feature s for each pair of inputs given in the truth table to prove the functionality is correct.\n",
    "\n",
    ">Proper values for weights w0, w1, and w2 that would give the NOR function are -3, -3, -1, respectivly. "
   ]
  },
  {
   "cell_type": "code",
   "execution_count": 2,
   "metadata": {},
   "outputs": [
    {
     "data": {
      "text/html": [
       "<div>\n",
       "<style scoped>\n",
       "    .dataframe tbody tr th:only-of-type {\n",
       "        vertical-align: middle;\n",
       "    }\n",
       "\n",
       "    .dataframe tbody tr th {\n",
       "        vertical-align: top;\n",
       "    }\n",
       "\n",
       "    .dataframe thead th {\n",
       "        text-align: right;\n",
       "    }\n",
       "</style>\n",
       "<table border=\"1\" class=\"dataframe\">\n",
       "  <thead>\n",
       "    <tr style=\"text-align: right;\">\n",
       "      <th></th>\n",
       "      <th>x1</th>\n",
       "      <th>x2</th>\n",
       "      <th>s</th>\n",
       "      <th>y</th>\n",
       "    </tr>\n",
       "  </thead>\n",
       "  <tbody>\n",
       "    <tr>\n",
       "      <th>0</th>\n",
       "      <td>-1</td>\n",
       "      <td>-1</td>\n",
       "      <td>1</td>\n",
       "      <td>1</td>\n",
       "    </tr>\n",
       "    <tr>\n",
       "      <th>1</th>\n",
       "      <td>-1</td>\n",
       "      <td>1</td>\n",
       "      <td>-1</td>\n",
       "      <td>-1</td>\n",
       "    </tr>\n",
       "    <tr>\n",
       "      <th>2</th>\n",
       "      <td>1</td>\n",
       "      <td>-1</td>\n",
       "      <td>-5</td>\n",
       "      <td>-1</td>\n",
       "    </tr>\n",
       "    <tr>\n",
       "      <th>3</th>\n",
       "      <td>1</td>\n",
       "      <td>1</td>\n",
       "      <td>-7</td>\n",
       "      <td>-1</td>\n",
       "    </tr>\n",
       "  </tbody>\n",
       "</table>\n",
       "</div>"
      ],
      "text/plain": [
       "   x1  x2  s  y\n",
       "0  -1  -1  1  1\n",
       "1  -1   1 -1 -1\n",
       "2   1  -1 -5 -1\n",
       "3   1   1 -7 -1"
      ]
     },
     "execution_count": 2,
     "metadata": {},
     "output_type": "execute_result"
    }
   ],
   "source": [
    "x1 = np.array([-1, -1, 1, 1])\n",
    "x2 = np.array([-1, 1, -1, 1])\n",
    "w0, w1, w2 = -3, -3, -1\n",
    "\n",
    "s = w1*x1 + w2*x2 + w0\n",
    "\n",
    "# Iterate through Sign to find the return values\n",
    "y= [Sign(i) for i in s]\n",
    "\n",
    "pd.DataFrame({'x1': x1, 'x2': x2, 's':s, 'y':y})"
   ]
  },
  {
   "cell_type": "markdown",
   "metadata": {},
   "source": [
    "### Problem 2.3\n",
    "Propose proper values for weight w0 , w1 , w2 and w3 in the Adaline shown in Figure 3 to perform the functionality of a Majority Vote function. Fill in the feature s for each triplet of inputs given in the truth table to prove the functionality is correct."
   ]
  },
  {
   "cell_type": "code",
   "execution_count": 3,
   "metadata": {},
   "outputs": [
    {
     "data": {
      "text/html": [
       "<div>\n",
       "<style scoped>\n",
       "    .dataframe tbody tr th:only-of-type {\n",
       "        vertical-align: middle;\n",
       "    }\n",
       "\n",
       "    .dataframe tbody tr th {\n",
       "        vertical-align: top;\n",
       "    }\n",
       "\n",
       "    .dataframe thead th {\n",
       "        text-align: right;\n",
       "    }\n",
       "</style>\n",
       "<table border=\"1\" class=\"dataframe\">\n",
       "  <thead>\n",
       "    <tr style=\"text-align: right;\">\n",
       "      <th></th>\n",
       "      <th>x1</th>\n",
       "      <th>x2</th>\n",
       "      <th>s</th>\n",
       "      <th>y</th>\n",
       "    </tr>\n",
       "  </thead>\n",
       "  <tbody>\n",
       "    <tr>\n",
       "      <th>0</th>\n",
       "      <td>-1</td>\n",
       "      <td>-1</td>\n",
       "      <td>-5</td>\n",
       "      <td>-1</td>\n",
       "    </tr>\n",
       "    <tr>\n",
       "      <th>1</th>\n",
       "      <td>-1</td>\n",
       "      <td>-1</td>\n",
       "      <td>-3</td>\n",
       "      <td>-1</td>\n",
       "    </tr>\n",
       "    <tr>\n",
       "      <th>2</th>\n",
       "      <td>-1</td>\n",
       "      <td>1</td>\n",
       "      <td>-1</td>\n",
       "      <td>-1</td>\n",
       "    </tr>\n",
       "    <tr>\n",
       "      <th>3</th>\n",
       "      <td>-1</td>\n",
       "      <td>1</td>\n",
       "      <td>1</td>\n",
       "      <td>1</td>\n",
       "    </tr>\n",
       "    <tr>\n",
       "      <th>4</th>\n",
       "      <td>1</td>\n",
       "      <td>-1</td>\n",
       "      <td>1</td>\n",
       "      <td>1</td>\n",
       "    </tr>\n",
       "    <tr>\n",
       "      <th>5</th>\n",
       "      <td>1</td>\n",
       "      <td>-1</td>\n",
       "      <td>3</td>\n",
       "      <td>1</td>\n",
       "    </tr>\n",
       "    <tr>\n",
       "      <th>6</th>\n",
       "      <td>1</td>\n",
       "      <td>1</td>\n",
       "      <td>5</td>\n",
       "      <td>1</td>\n",
       "    </tr>\n",
       "    <tr>\n",
       "      <th>7</th>\n",
       "      <td>1</td>\n",
       "      <td>1</td>\n",
       "      <td>7</td>\n",
       "      <td>1</td>\n",
       "    </tr>\n",
       "  </tbody>\n",
       "</table>\n",
       "</div>"
      ],
      "text/plain": [
       "   x1  x2  s  y\n",
       "0  -1  -1 -5 -1\n",
       "1  -1  -1 -3 -1\n",
       "2  -1   1 -1 -1\n",
       "3  -1   1  1  1\n",
       "4   1  -1  1  1\n",
       "5   1  -1  3  1\n",
       "6   1   1  5  1\n",
       "7   1   1  7  1"
      ]
     },
     "execution_count": 3,
     "metadata": {},
     "output_type": "execute_result"
    }
   ],
   "source": [
    "x1 = np.array([-1, -1, -1, -1, 1, 1, 1, 1])\n",
    "x2 = np.array([-1, -1, 1, 1, -1, -1, 1, 1])\n",
    "x3 = np.array([-1, 1, -1, 1, -1, 1, -1, 1])\n",
    "w0, w1, w2, w3 = 1,3,2,1\n",
    "\n",
    "s = w1*x1 + w2*x2 + w3*x3 + w0\n",
    "\n",
    "# Iterate through Sign to find the return values\n",
    "y= [Sign(i) for i in s]\n",
    "\n",
    "pd.DataFrame({'x1': x1, 'x2': x2, 's':s, 'y':y})"
   ]
  },
  {
   "cell_type": "markdown",
   "metadata": {},
   "source": [
    "### Problem 2.4 \n",
    "As discussed in Lecture 2, the XOR function cannot be represented with a single Adaline, but can be represented with a 2-layer Madaline. Propose proper values for second-layer weight w20,w21 and w22 in the Madaline shown in Figure 4 to perform the functionality of a XOR function. Fill in the feature s for each pair of inputs given in the truth table to prove the functionality is correct."
   ]
  },
  {
   "cell_type": "code",
   "execution_count": 4,
   "metadata": {},
   "outputs": [
    {
     "data": {
      "text/html": [
       "<div>\n",
       "<style scoped>\n",
       "    .dataframe tbody tr th:only-of-type {\n",
       "        vertical-align: middle;\n",
       "    }\n",
       "\n",
       "    .dataframe tbody tr th {\n",
       "        vertical-align: top;\n",
       "    }\n",
       "\n",
       "    .dataframe thead th {\n",
       "        text-align: right;\n",
       "    }\n",
       "</style>\n",
       "<table border=\"1\" class=\"dataframe\">\n",
       "  <thead>\n",
       "    <tr style=\"text-align: right;\">\n",
       "      <th></th>\n",
       "      <th>x1</th>\n",
       "      <th>x2</th>\n",
       "      <th>s</th>\n",
       "      <th>y</th>\n",
       "    </tr>\n",
       "  </thead>\n",
       "  <tbody>\n",
       "    <tr>\n",
       "      <th>0</th>\n",
       "      <td>-1</td>\n",
       "      <td>-1</td>\n",
       "      <td>-1</td>\n",
       "      <td>-1</td>\n",
       "    </tr>\n",
       "    <tr>\n",
       "      <th>1</th>\n",
       "      <td>-1</td>\n",
       "      <td>1</td>\n",
       "      <td>1</td>\n",
       "      <td>1</td>\n",
       "    </tr>\n",
       "    <tr>\n",
       "      <th>2</th>\n",
       "      <td>1</td>\n",
       "      <td>-1</td>\n",
       "      <td>1</td>\n",
       "      <td>1</td>\n",
       "    </tr>\n",
       "    <tr>\n",
       "      <th>3</th>\n",
       "      <td>1</td>\n",
       "      <td>1</td>\n",
       "      <td>-1</td>\n",
       "      <td>-1</td>\n",
       "    </tr>\n",
       "  </tbody>\n",
       "</table>\n",
       "</div>"
      ],
      "text/plain": [
       "   x1  x2  s  y\n",
       "0  -1  -1 -1 -1\n",
       "1  -1   1  1  1\n",
       "2   1  -1  1  1\n",
       "3   1   1 -1 -1"
      ]
     },
     "execution_count": 4,
     "metadata": {},
     "output_type": "execute_result"
    }
   ],
   "source": [
    "# First layer\n",
    "x1 = np.array([-1, -1, 1, 1])\n",
    "x2 = np.array([-1, 1, -1, 1])\n",
    "\n",
    "# Weights and bias\n",
    "w0 = -0.5\n",
    "w1, w2, w3, w4 = -1, 1, 1, -1\n",
    "\n",
    "s1 = w1*x1 + w2*x2 + w0\n",
    "s2 = w3*x1 + w4*x2 + w0\n",
    "\n",
    "# Pass through Sign function\n",
    "z1= [Sign(i) for i in s1]\n",
    "z2 = [Sign(i) for i in s2]\n",
    "\n",
    "# Second layer\n",
    "w20, w21, w22 = [1,1,1]\n",
    "\n",
    "s20 = w21*np.array(z1) + w22*np.array(z2) + w20\n",
    "\n",
    "y = [Sign(i) for i in s20]\n",
    "\n",
    "pd.DataFrame({'x1': x1, 'x2': x2, 's':s20, 'y':y})"
   ]
  },
  {
   "cell_type": "markdown",
   "metadata": {},
   "source": [
    "## 3. Back Propagation\n"
   ]
  },
  {
   "cell_type": "markdown",
   "metadata": {},
   "source": [
    "### Problem 3.1 \n",
    "The feed-forward computation of a logistic neuron could be represented as follows.\n",
    "\n",
    "Given an input $x_l \\epsilon R^{n \\times 1}$, the output $x_{l+1} \\epsilon R^{m \\times 1}$ is calculated as follows:\n",
    "\n",
    "$y_l = W_lx_l + b_l, x_{l+1} = \\sigma(y_l)$\n",
    "\n",
    "Where $W \\epsilon R^{m×n}$ denotes the weight matrix, $b \\epsilon R^{m×1}$ denotes the bias term, and $\\sigma : R^{m×1}$ ⇒ $R^{m×1}$ denotes the Sigmoid activation function. Following the chain rule, derive the gradient $\\frac{\\partial x_{l+1}}{\\partial x_l} , \\frac{\\partial x_{l+1}}{W_l} , \\frac{\\partial x_{l+1}}{\\partial b_l}$ in a **vectorized format**. (Hint: make sure the gradient has the same shape as the parameter.)"
   ]
  },
  {
   "cell_type": "markdown",
   "metadata": {},
   "source": [
    "$$\\frac{\\partial x_{l+1}}{\\partial x_l} = W^T \\cdot \\frac{\\partial x_{l+1}}{\\partial y_l}$$\n",
    "\n",
    "$$ \\boxed{= W^T \\cdot x_{l+1} \\odot (1-x_{l+1})}$$\n",
    "\n",
    "<br>\n",
    "<br>\n",
    "$$\\frac{\\partial x_{l+1}}{\\partial W_l} = \\frac{\\partial x_{l+1}}{\\partial y_l} \\cdot x^T_l$$\n",
    "\n",
    "<br>\n",
    "$$\\boxed{= x_{l+1} \\odot (1-x_{l+1}) \\cdot x^T_l}$$\n",
    "\n",
    "<br>\n",
    "<br>\n",
    "$$\\frac{\\partial x_{l+1}}{\\partial b_l} = \\frac{\\partial x_{l+1}}{\\partial y_l} \\cdot \\frac{\\partial y_l}{\\partial b_l}$$\n",
    "\n",
    "<br>\n",
    "$$\\boxed{= x_{l+1} \\odot (1-x_{l+1})}$$"
   ]
  },
  {
   "cell_type": "markdown",
   "metadata": {},
   "source": [
    "### Problem 3.2 \n",
    "\n",
    "Consider a 2-layer fully-connected NN composed by the logistic neuron mentioned in Problem 3.1, where we have input $x_1 \\epsilon R^{n \\times 1}$, hidden feature $x_2 \\epsilon R^{m \\times 1}$, output $x_3 \\epsilon R^{k \\times 1}$ and weights and bias $W1, W2, b1, b2$ of the two layers. A MSE loss function $L = \\frac{1}{2} (t − x_3)^T (t − x_3)$ is applied in the end. Following the chain rule, derive the gradient $\\frac{\\delta L}{\\delta W_1}$ in a vectorized format.\n"
   ]
  },
  {
   "cell_type": "markdown",
   "metadata": {},
   "source": [
    "$$\\frac{\\partial{L}}{\\partial{W_l}} = \\frac{\\partial{L}}{\\partial{x_3}} \\cdot \\frac{\\partial{x_3}}{\\partial{x_2}} \\cdot \\frac{\\partial{x_2}}{\\partial{y_l}} \\cdot \\frac{\\partial{y_l}}{\\partial{W_l}}$$\n",
    "\n",
    "<br>\n",
    "$$\\frac{\\partial{L}}{\\partial{x_3}} = (x_3 - t)$$\n",
    "\n",
    "<br>\n",
    "$$\\frac{\\partial{x_3}}{\\partial{x_2}} = W_2^T$$\n",
    "\n",
    "<br>\n",
    "$$\\frac{\\partial{x_2}}{\\partial{y_l}} = x_2 \\odot (1-x_2)$$\n",
    "\n",
    "<br>\n",
    "$$\\frac{\\partial{y_l}}{\\partial{W_l}} = x_1^T$$\n",
    "<br>\n",
    "\n",
    "$$\\boxed{\\frac{\\partial{L}}{\\partial{W_l}} = W_2^T \\cdot (x_3 - t) \\cdot  (x_2 \\odot (1-x_2)) \\cdot x_1^T}$$"
   ]
  },
  {
   "cell_type": "markdown",
   "metadata": {},
   "source": [
    "## 4. 2D Convolution "
   ]
  },
  {
   "cell_type": "markdown",
   "metadata": {},
   "source": [
    "### Problem 4.1 \n",
    "Derive the 2D convolution results of the following 5 × 9 input matrix and the 3 × 3 kernel. Consider 0s are padded around the input and the stride is 1, so that the output should also have shape 5 × 9.\n"
   ]
  },
  {
   "cell_type": "code",
   "execution_count": 5,
   "metadata": {},
   "outputs": [],
   "source": [
    "M_orig = np.array([[0,0,0,0,1,0,0,0,0],\n",
    "                  [0,0,1,1,1,1,1,0,0],\n",
    "                  [1,1,1,1,1,1,1,1,1],\n",
    "                  [0,0,1,1,1,1,1,0,0],\n",
    "                  [0,0,0,0,1,0,0,0,0]])\n",
    "\n",
    "kernel = np.array([[0, -.25, 0], \n",
    "                   [-.25, 2, -.25], \n",
    "                   [0, -.25, 0]])"
   ]
  },
  {
   "cell_type": "code",
   "execution_count": 6,
   "metadata": {},
   "outputs": [
    {
     "data": {
      "text/plain": [
       "array([[ 0.  ,  0.  , -0.25, -0.5 ,  1.75, -0.5 , -0.25,  0.  ,  0.  ],\n",
       "       [-0.25, -0.5 ,  1.5 ,  1.25,  1.  ,  1.25,  1.5 , -0.5 , -0.25],\n",
       "       [ 1.75,  1.5 ,  1.  ,  1.  ,  1.  ,  1.  ,  1.  ,  1.5 ,  1.75],\n",
       "       [-0.25, -0.5 ,  1.5 ,  1.25,  1.  ,  1.25,  1.5 , -0.5 , -0.25],\n",
       "       [ 0.  ,  0.  , -0.25, -0.5 ,  1.75, -0.5 , -0.25,  0.  ,  0.  ]])"
      ]
     },
     "execution_count": 6,
     "metadata": {},
     "output_type": "execute_result"
    }
   ],
   "source": [
    "# Add Padding\n",
    "M = np.pad(M_orig, 1)\n",
    "\n",
    "padding = 1\n",
    "\n",
    "# Number of strides \n",
    "conv_n = M.shape[0] - kernel.shape[0] + 1\n",
    "conv_m = M.shape[1] - kernel.shape[1] + 1\n",
    "\n",
    "# Output\n",
    "feature_map = np.zeros((conv_n, conv_m))\n",
    "\n",
    "# Iterate through row and cols\n",
    "for i in range(conv_n):\n",
    "    for j in range(conv_m):\n",
    "        M_sub = M[i:i+3, j:j+3]\n",
    "        output_f = np.sum(np.multiply(M_sub, kernel))\n",
    "        feature_map[i,j] = output_f\n",
    "\n",
    "feature_map"
   ]
  },
  {
   "cell_type": "markdown",
   "metadata": {},
   "source": [
    "### Problem 4.2\n",
    "Compare the output matrix and the input matrix in Problem 4.1, briefly analyze the effect of this 3 × 3 kernel on the input.\n",
    "\n",
    ">This type of kernel is used to sharpen images which it does by emphasizing the difference between adjacent numbers in the matrix."
   ]
  },
  {
   "cell_type": "code",
   "execution_count": 29,
   "metadata": {},
   "outputs": [
    {
     "name": "stdout",
     "output_type": "stream",
     "text": [
      "Original matrix: \n",
      "[[0 0 0 0 1 0 0 0 0]\n",
      " [0 0 1 1 1 1 1 0 0]\n",
      " [1 1 1 1 1 1 1 1 1]\n",
      " [0 0 1 1 1 1 1 0 0]\n",
      " [0 0 0 0 1 0 0 0 0]] \n",
      "\n",
      " After the kernel is applied: \n",
      "[[ 0.    0.   -0.25 -0.5   1.75 -0.5  -0.25  0.    0.  ]\n",
      " [-0.25 -0.5   1.5   1.25  1.    1.25  1.5  -0.5  -0.25]\n",
      " [ 1.75  1.5   1.    1.    1.    1.    1.    1.5   1.75]\n",
      " [-0.25 -0.5   1.5   1.25  1.    1.25  1.5  -0.5  -0.25]\n",
      " [ 0.    0.   -0.25 -0.5   1.75 -0.5  -0.25  0.    0.  ]]\n"
     ]
    }
   ],
   "source": [
    "print(f'Original matrix: \\n{M_orig} \\n\\n After the kernel is applied: \\n{feature_map}')"
   ]
  },
  {
   "cell_type": "markdown",
   "metadata": {},
   "source": [
    "## 5 Lab: LMS Algorithm "
   ]
  },
  {
   "cell_type": "markdown",
   "metadata": {},
   "source": [
    "In this lab question, you will implement the LMS algorithm with NumPy to learn a linear regression model for the provided dataset. You will also be directed to analyze how the choice of learning rate in the LMS algorithm affect the final result. All the codes generating the results of this lab should be gathered in one file and submit to Sakai.\n",
    "\n",
    "There are two variables in the file: data $X \\in R^{100\\times 3}$ and target $D \\in R^{100\\times 1}$. Each individual pair of data and target is composed into X and D following the same way as discussed on Lecture 2 Page 8. Specifically, each row in X correspond to the transpose of a data point, with the first element as constant 1 and the other two as the two input features $x_{1k}$ and $x_{2k}$. The goal of the learning task is finding the weight vector $W \\in R^{3\\times 1}$ for the linear model that can minimize the MSE loss, which is also formulated on Lecture 2 Page 8."
   ]
  },
  {
   "cell_type": "markdown",
   "metadata": {},
   "source": [
    "**(a)** \n",
    "Directly compute the least square (Wiener) solution with the provided dataset. What is the optimal weight W∗? What is the MSE loss of the whole dataset when the weight is set to W∗?"
   ]
  },
  {
   "cell_type": "code",
   "execution_count": 144,
   "metadata": {},
   "outputs": [],
   "source": [
    "import numpy as np\n",
    "import scipy.io\n",
    "mat = scipy.io.loadmat('dataset.mat')\n",
    "X, D = mat['X'], mat['D']"
   ]
  },
  {
   "cell_type": "code",
   "execution_count": 145,
   "metadata": {},
   "outputs": [],
   "source": [
    "# A^TAx = A^Tb\n",
    "\n",
    "left = X.T @ X\n",
    "right = X.T @ D\n",
    "\n",
    "Wa = np.linalg.inv(left)@ right"
   ]
  },
  {
   "cell_type": "code",
   "execution_count": 146,
   "metadata": {},
   "outputs": [
    {
     "data": {
      "text/plain": [
       "5.0399515658683854e-05"
      ]
     },
     "execution_count": 146,
     "metadata": {},
     "output_type": "execute_result"
    }
   ],
   "source": [
    "MSE = np.sum((D - X@Wa)**2)/(2*X.shape[0])\n",
    "MSE"
   ]
  },
  {
   "cell_type": "code",
   "execution_count": 147,
   "metadata": {},
   "outputs": [
    {
     "name": "stdout",
     "output_type": "stream",
     "text": [
      "Weight after 20 epochs: \n",
      "[[-0.9993219 ]\n",
      " [ 1.00061145]\n",
      " [-2.00031968]]\n"
     ]
    }
   ],
   "source": [
    "print(f'Weight after 20 epochs: \\n{Wa}')"
   ]
  },
  {
   "cell_type": "markdown",
   "metadata": {},
   "source": [
    "**(b)**\n",
    "\n",
    "Now consider that you can only train with 1 pair of data point and target each time. In such case, the LMS algorithm should be used to find the optimal weight. Please initialize the weight vector as  $W_0=[0,0,0]^T$  , and update the weight with the LMS algorithm. After each epoch (every time you go through all the training data and loop back to the beginning), compute and record the MSE loss of the current weight on the whole dataset. Run LMS for 20 epochs with learning rate r = 0.01, report the weight you get in the end and plot the MSE loss in log scale vs. Epochs"
   ]
  },
  {
   "cell_type": "code",
   "execution_count": 148,
   "metadata": {},
   "outputs": [
    {
     "data": {
      "text/plain": [
       "array([[-0.99925145],\n",
       "       [ 1.00082859],\n",
       "       [-2.00068123]])"
      ]
     },
     "execution_count": 148,
     "metadata": {},
     "output_type": "execute_result"
    }
   ],
   "source": [
    "import matplotlib.pyplot as plt\n",
    "\n",
    "\n",
    "r = 0.01\n",
    "\n",
    "def LMS(r):\n",
    "    losses = []\n",
    "    W = np.array([0,0,0]).reshape(3,1)\n",
    "    for i in range(21):\n",
    "        # MSE\n",
    "        MSE = np.sum((D - X@W)**2)/(2*X.shape[0])\n",
    "        losses.append(MSE)\n",
    "\n",
    "        # Update W for next iteration\n",
    "        for j in range(X.shape[0]):\n",
    "            Di = X[j]@W\n",
    "            #print(X[j])\n",
    "            W = W + X[j].reshape(3,1) * (D[j] - Di)*r\n",
    "    return W, losses\n",
    "\n",
    "Wb, losses = LMS(r)  \n",
    "Wb"
   ]
  },
  {
   "cell_type": "code",
   "execution_count": 149,
   "metadata": {},
   "outputs": [
    {
     "data": {
      "image/png": "[encoded data removed]",
      "text/plain": [
       "<Figure size 432x288 with 1 Axes>"
      ]
     },
     "metadata": {
      "image/png": {
       "height": 277,
       "width": 393
      },
      "needs_background": "light"
     },
     "output_type": "display_data"
    }
   ],
   "source": [
    "%config InlineBackend.figure_format = 'retina'\n",
    "\n",
    "plt.plot(range(0, 21), losses)\n",
    "plt.yscale('log')\n",
    "plt.title('Log MSE loss over 20 epochs')\n",
    "plt.xlabel('Number of epochs')\n",
    "plt.ylabel('Log MSE loss')\n",
    "plt.show()"
   ]
  },
  {
   "cell_type": "markdown",
   "metadata": {},
   "source": [
    "**(c)** \n",
    "\n",
    "Scatter plot the points ($x_{1k}$, $x_{2k}$, $d_{k}$) for all 100 data-target pairs in a 3D figure (https://jakevdp.github.io/PythonDataScienceHandbook/04.12-three-dimensional-plotting.html), and plot the lines corresponding to the linear models you got in (a) and (b) respectively in the same figure. Observe if the linear models fit the data well."
   ]
  },
  {
   "cell_type": "code",
   "execution_count": 2,
   "metadata": {},
   "outputs": [
    {
     "ename": "NameError",
     "evalue": "name 'X' is not defined",
     "output_type": "error",
     "traceback": [
      "\u001b[0;31m---------------------------------------------------------------------------\u001b[0m",
      "\u001b[0;31mNameError\u001b[0m                                 Traceback (most recent call last)",
      "\u001b[0;32m<ipython-input-2-5109777d92dc>\u001b[0m in \u001b[0;36m<module>\u001b[0;34m\u001b[0m\n\u001b[1;32m      4\u001b[0m \u001b[0;32mimport\u001b[0m \u001b[0mmatplotlib\u001b[0m\u001b[0;34m.\u001b[0m\u001b[0mpyplot\u001b[0m \u001b[0;32mas\u001b[0m \u001b[0mplt\u001b[0m\u001b[0;34m\u001b[0m\u001b[0;34m\u001b[0m\u001b[0m\n\u001b[1;32m      5\u001b[0m \u001b[0;34m\u001b[0m\u001b[0m\n\u001b[0;32m----> 6\u001b[0;31m \u001b[0mX1\u001b[0m\u001b[0;34m,\u001b[0m \u001b[0mX2\u001b[0m \u001b[0;34m=\u001b[0m \u001b[0mX\u001b[0m\u001b[0;34m[\u001b[0m\u001b[0;34m:\u001b[0m\u001b[0;34m,\u001b[0m\u001b[0;36m1\u001b[0m\u001b[0;34m]\u001b[0m\u001b[0;34m,\u001b[0m \u001b[0mX\u001b[0m\u001b[0;34m[\u001b[0m\u001b[0;34m:\u001b[0m\u001b[0;34m,\u001b[0m\u001b[0;36m2\u001b[0m\u001b[0;34m]\u001b[0m\u001b[0;34m\u001b[0m\u001b[0;34m\u001b[0m\u001b[0m\n\u001b[0m\u001b[1;32m      7\u001b[0m \u001b[0;34m\u001b[0m\u001b[0m\n\u001b[1;32m      8\u001b[0m \u001b[0;31m# grid\u001b[0m\u001b[0;34m\u001b[0m\u001b[0;34m\u001b[0m\u001b[0;34m\u001b[0m\u001b[0m\n",
      "\u001b[0;31mNameError\u001b[0m: name 'X' is not defined"
     ]
    }
   ],
   "source": [
    "from mpl_toolkits import mplot3d\n",
    "%matplotlib inline\n",
    "import numpy as np\n",
    "import matplotlib.pyplot as plt\n",
    "\n",
    "X1, X2 = X[:,1], X[:,2]\n",
    "\n",
    "# grid\n",
    "x = np.linspace(X1.min()-1, X1.max()+1, 100)\n",
    "y = np.linspace(X2.min()-1, X2.max()+1, 100)\n",
    "xx, yy = np.meshgrid(x, y)\n",
    "\n",
    "# Create another dimension for our Z\n",
    "grid = np.concatenate((np.ones(xx.reshape(-1,1).shape), xx.reshape(-1,1), yy.reshape(-1,1)), axis=1)\n",
    "\n",
    "# Z coordinates\n",
    "Z1 = (grid @ Wa).reshape(100,100)\n",
    "Z2 = (grid @ Wb).reshape(100,100)\n",
    "\n",
    "# Plot\n",
    "fig = plt.figure(figsize = (12,8))\n",
    "ax = plt.axes(projection='3d')\n",
    "ax.set_title(\"3D Plot of Linear Models\")\n",
    "\n",
    "ax.contour3D(xx, yy, Z1, 50, cmap = 'Greys')\n",
    "ax.contour3D(xx, yy, Z2, 50, cmap = 'Oranges')\n",
    "ax.scatter3D(X1, X2, D, c = 'blue')\n",
    "\n",
    "ax.set_xlabel('x')\n",
    "ax.set_ylabel('y')\n",
    "ax.set_zlabel('z')\n",
    "\n",
    "plt.show()"
   ]
  },
  {
   "cell_type": "markdown",
   "metadata": {},
   "source": [
    "**(d)**\n",
    "\n",
    "Learning rate r is an important hyperparameter for the LMS algorithm, as well as for CNN optimization. Here, try repeat the process in (b) with r set to 0.005, 0.05 and 0.5 respectively. Together with the result you got in (b), plot the MSE losses of the 4 sets of experiments in log scale vs. Epochs in one figure. Then try further enlarge the learning rate to r = 1 and observe how the MSE changes. Base on these observations, comment on how learning rate affects the speed and quality of the learning process. (Note: The learning rate tuning for the CNN optimization will be introduced in Lecture 7.)\n",
    "\n",
    ">If we look at the plots of MSE loss for each over the learning rate over epochs, we can see that increasing the learning rate leads to finding the optimal parameters faster as the MSE loss drops in less epochs. This is only true up to a certain point as once a learning rate of 0.5 is used, causes the model to converge to a suboptimal solution. In the n-dimensional space where the gradient descent algorithm is working to find a local minimum, having a large learning rate causes gradient descent to bounce off valley walls where the optimal solution may lie. When we use a learning rate of 1, the weights explode and gradient descent will cause the loss to increase. "
   ]
  },
  {
   "cell_type": "code",
   "execution_count": 123,
   "metadata": {},
   "outputs": [
    {
     "data": {
      "image/png": "[encoded data removed]",
      "text/plain": [
       "<Figure size 648x432 with 1 Axes>"
      ]
     },
     "metadata": {
      "image/png": {
       "height": 386,
       "width": 560
      },
      "needs_background": "light"
     },
     "output_type": "display_data"
    }
   ],
   "source": [
    "plt.figure(figsize=(9,6))\n",
    "rs = [0.005, 0.01, 0.05, 0.5]\n",
    "weight_list = []\n",
    "\n",
    "for r in rs:\n",
    "    Wq, losses = LMS(r)\n",
    "    weight_list.append(Wq)\n",
    "    plt.plot(range(0,21), losses, label = f'LR ={r}')\n",
    "    \n",
    "plt.yscale('log')\n",
    "plt.title('Log MSE Loss over Different Learning Rates')\n",
    "plt.xlabel('Number of epochs')\n",
    "plt.ylabel('Log MSE loss')\n",
    "plt.legend()\n",
    "plt.show()"
   ]
  },
  {
   "cell_type": "code",
   "execution_count": 139,
   "metadata": {},
   "outputs": [
    {
     "name": "stdout",
     "output_type": "stream",
     "text": [
      "Weights for learning rate of 0.005 \n",
      "[[-0.99922727]\n",
      " [ 1.00059363]\n",
      " [-2.00040422]]\n",
      "\n",
      "Weights for learning rate of 0.01 \n",
      "[[-0.99925145]\n",
      " [ 1.00082859]\n",
      " [-2.00068123]]\n",
      "\n",
      "Weights for learning rate of 0.05 \n",
      "[[-0.99946913]\n",
      " [ 1.00163155]\n",
      " [-2.00162854]]\n",
      "\n",
      "Weights for learning rate of 0.5 \n",
      "[[-1.02030504]\n",
      " [ 0.98520802]\n",
      " [-1.9666911 ]]\n",
      "\n"
     ]
    }
   ],
   "source": [
    "for i in range(4):\n",
    "    print(f'Weights for learning rate of {rs[i]} \\n{weight_list[i]}\\n')"
   ]
  },
  {
   "cell_type": "code",
   "execution_count": 170,
   "metadata": {},
   "outputs": [
    {
     "name": "stderr",
     "output_type": "stream",
     "text": [
      "/opt/conda/lib/python3.6/site-packages/ipykernel_launcher.py:11: RuntimeWarning: overflow encountered in square\n",
      "  # This is added back by InteractiveShellApp.init_path()\n"
     ]
    },
    {
     "data": {
      "image/png": "[encoded data removed]",
      "text/plain": [
       "<Figure size 432x288 with 1 Axes>"
      ]
     },
     "metadata": {
      "image/png": {
       "height": 252,
       "width": 390
      },
      "needs_background": "light"
     },
     "output_type": "display_data"
    }
   ],
   "source": [
    "Wq, losses = LMS(1)\n",
    "plt.plot(range(0,21), losses)\n",
    "plt.yscale('log')"
   ]
  },
  {
   "cell_type": "code",
   "execution_count": 173,
   "metadata": {},
   "outputs": [
    {
     "name": "stdout",
     "output_type": "stream",
     "text": [
      "MSE for LR of 1:\n"
     ]
    },
    {
     "data": {
      "text/plain": [
       "[2.8311433336832783,\n",
       " 8.190171003880238e+19,\n",
       " 5.315159923331934e+38,\n",
       " 3.4493685919950074e+57,\n",
       " 2.2385297629920696e+76,\n",
       " 1.452734135583647e+95,\n",
       " 9.427779355808586e+113,\n",
       " 6.118326912315607e+132,\n",
       " 3.9705982494066945e+151,\n",
       " 2.576791120209086e+170,\n",
       " 1.6722549248543786e+189,\n",
       " 1.085239898479929e+208,\n",
       " 7.042859433380322e+226,\n",
       " 4.570590250858831e+245,\n",
       " 2.9661667166370503e+264,\n",
       " 1.9249472186294156e+283,\n",
       " 1.2492291056081223e+302,\n",
       " inf,\n",
       " inf,\n",
       " inf,\n",
       " inf]"
      ]
     },
     "execution_count": 173,
     "metadata": {},
     "output_type": "execute_result"
    }
   ],
   "source": [
    "print(f'MSE for LR of 1:')\n",
    "losses"
   ]
  },
  {
   "cell_type": "markdown",
   "metadata": {},
   "source": [
    "## Lab 3 Bonus\n",
    "**(c)** \n",
    "\n",
    "Comparing with the histograms you got in (b), are there any differences? Briefly analyze the cause of the difference, and comment on how will initializing CNN model with zero weights will affect the training process."
   ]
  },
  {
   "cell_type": "markdown",
   "metadata": {},
   "source": [
    "When the weights were set to zero, the histograms show that the gradient for all layers except the last are 0. This is because when a model is initialized with all weights at zero, this effectivly kills the neurons. In this situation all the neurons are following the same gradient and therefore will all be updated by the same amount making training useless."
   ]
  }
 ],
 "metadata": {
  "kernelspec": {
   "display_name": "Python 3",
   "language": "python",
   "name": "python3"
  },
  "language_info": {
   "codemirror_mode": {
    "name": "ipython",
    "version": 3
   },
   "file_extension": ".py",
   "mimetype": "text/x-python",
   "name": "python",
   "nbconvert_exporter": "python",
   "pygments_lexer": "ipython3",
   "version": "3.7.7"
  }
 },
 "nbformat": 4,
 "nbformat_minor": 4
}
