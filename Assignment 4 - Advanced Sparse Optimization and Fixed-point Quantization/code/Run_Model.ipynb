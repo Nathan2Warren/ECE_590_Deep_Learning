{
 "cells": [
  {
   "cell_type": "markdown",
   "metadata": {},
   "source": [
    "### Model preperation"
   ]
  },
  {
   "cell_type": "code",
   "execution_count": 43,
   "metadata": {
    "pycharm": {
     "is_executing": false
    }
   },
   "outputs": [],
   "source": [
    "from resnet20 import ResNetCIFAR\n",
    "from train_util import train, finetune, test\n",
    "import torch\n",
    "import numpy as np\n",
    "\n",
    "device = 'cuda' if torch.cuda.is_available() else 'cpu'"
   ]
  },
  {
   "cell_type": "code",
   "execution_count": 44,
   "metadata": {
    "pycharm": {
     "is_executing": false,
     "name": "#%%\n"
    }
   },
   "outputs": [],
   "source": [
    "net = ResNetCIFAR(num_layers=20, Nbits1=None, Nbits2=None, Nbits3=None)\n",
    "net = net.to(device)"
   ]
  },
  {
   "cell_type": "code",
   "execution_count": 45,
   "metadata": {},
   "outputs": [
    {
     "name": "stdout",
     "output_type": "stream",
     "text": [
      "Files already downloaded and verified\n",
      "Test Loss=0.3231, Test accuracy=0.9151\n"
     ]
    }
   ],
   "source": [
    "# Load the best weight paramters\n",
    "net.load_state_dict(torch.load(\"pretrained_model.pt\"))\n",
    "test(net)"
   ]
  },
  {
   "cell_type": "markdown",
   "metadata": {},
   "source": [
    "### (b) and (c): Fixed-point quantization"
   ]
  },
  {
   "cell_type": "code",
   "execution_count": null,
   "metadata": {},
   "outputs": [],
   "source": [
    "# Define quantized model and load weight\n",
    "Nbits = 2 #Change this value to finish (b) and (c)\n",
    "\n",
    "net = ResNetCIFAR(num_layers=20, Nbits1=Nbits, Nbits2=Nbits, Nbits3=Nbits)\n",
    "net = net.to(device)\n",
    "net.load_state_dict(torch.load(\"pretrained_model.pt\"))\n",
    "test(net)"
   ]
  },
  {
   "cell_type": "code",
   "execution_count": null,
   "metadata": {},
   "outputs": [],
   "source": [
    "# Quantized model finetuning\n",
    "finetune(net, epochs=20, batch_size=128, lr=0.002, reg=1e-4)   # Change epochs to 20 for NBits = 2\n",
    "\n",
    "# Load the model with best accuracy\n",
    "net.load_state_dict(torch.load(\"net_after_finetune.pt\"))\n",
    "test(net)"
   ]
  },
  {
   "cell_type": "markdown",
   "metadata": {},
   "source": [
    "### (d) and (e): Mixed-precision quantization"
   ]
  },
  {
   "cell_type": "code",
   "execution_count": 76,
   "metadata": {},
   "outputs": [
    {
     "name": "stdout",
     "output_type": "stream",
     "text": [
      "Files already downloaded and verified\n",
      "Test Loss=6.8381, Test accuracy=0.2044\n"
     ]
    },
    {
     "data": {
      "text/plain": [
       "4.008741361998701"
      ]
     },
     "execution_count": 76,
     "metadata": {},
     "output_type": "execute_result"
    }
   ],
   "source": [
    "from FP_layers import *\n",
    "\n",
    "Nbits1, Nbits2, Nbits3 = 2,4,4\n",
    "\n",
    "# Define quantized model and load weight\n",
    "net = ResNetCIFAR(num_layers=20, Nbits1=Nbits1, Nbits2=Nbits2, Nbits3=Nbits3)  #Change the value of Nbits1, Nbits2, Nbits3 to finish (d) and (e)\n",
    "\n",
    "net = net.to(device)\n",
    "net.load_state_dict(torch.load(\"net_after_finetune.pt\"))\n",
    "test(net)\n",
    "\n",
    "num_nz = []\n",
    "\n",
    "# Get weights from modules\n",
    "for n, m in net.named_modules():\n",
    "        if isinstance(m, FP_Linear):\n",
    "            weight = m.linear.weight.data.cpu().numpy()\n",
    "            weight = weight.flatten()\n",
    "            num_parameters = weight.shape[0]\n",
    "            num_nonzero_parameters = (weight != 0).sum()\n",
    "            num_nz.append(num_nonzero_parameters)\n",
    "        elif isinstance(m, FP_Conv):\n",
    "            weight = m.conv.weight.data.cpu().numpy()\n",
    "            weight = weight.flatten()\n",
    "            num_parameters = weight.shape[0]\n",
    "            num_nonzero_parameters = (weight != 0).sum()\n",
    "            num_nz.append(num_nonzero_parameters)\n",
    "\n",
    "# Calculate average bits\n",
    "first_and_last = (num_nz[0] + num_nz[21])*32\n",
    "\n",
    "# 6 in each block\n",
    "first_block = np.array(num_nz[1:7]).sum() * Nbits1\n",
    "second_block = np.array(num_nz[7:14]).sum() * Nbits2\n",
    "third_block = np.array(num_nz[14:21]).sum() * Nbits3\n",
    "\n",
    "# Get total\n",
    "total = np.array(num_nz).sum()\n",
    "\n",
    "average_bits = (first_and_last + first_block + second_block + third_block)/total\n",
    "average_bits"
   ]
  },
  {
   "cell_type": "code",
   "execution_count": null,
   "metadata": {},
   "outputs": [],
   "source": [
    "# Quantized model finetuning\n",
    "finetune(net, epochs=10, batch_size=128, lr=0.002, reg=1e-4)\n",
    "\n",
    "# Load the model with best accuracy\n",
    "net.load_state_dict(torch.load(\"net_after_finetune.pt\"))\n",
    "test(net)"
   ]
  },
  {
   "cell_type": "code",
   "execution_count": null,
   "metadata": {},
   "outputs": [],
   "source": []
  }
 ],
 "metadata": {
  "kernelspec": {
   "display_name": "Python 3",
   "language": "python",
   "name": "python3"
  },
  "language_info": {
   "codemirror_mode": {
    "name": "ipython",
    "version": 3
   },
   "file_extension": ".py",
   "mimetype": "text/x-python",
   "name": "python",
   "nbconvert_exporter": "python",
   "pygments_lexer": "ipython3",
   "version": "3.7.7"
  },
  "pycharm": {
   "stem_cell": {
    "cell_type": "raw",
    "metadata": {
     "collapsed": false
    },
    "source": []
   }
  }
 },
 "nbformat": 4,
 "nbformat_minor": 4
}
